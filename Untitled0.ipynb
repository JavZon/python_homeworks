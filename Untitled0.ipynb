{
  "nbformat": 4,
  "nbformat_minor": 0,
  "metadata": {
    "colab": {
      "provenance": [],
      "authorship_tag": "ABX9TyM01w9EoB3vdk1rlDU2+krp",
      "include_colab_link": true
    },
    "kernelspec": {
      "name": "python3",
      "display_name": "Python 3"
    },
    "language_info": {
      "name": "python"
    }
  },
  "cells": [
    {
      "cell_type": "markdown",
      "metadata": {
        "id": "view-in-github",
        "colab_type": "text"
      },
      "source": [
        "<a href=\"https://colab.research.google.com/github/JavZon/python_homeworks/blob/main/Untitled0.ipynb\" target=\"_parent\"><img src=\"https://colab.research.google.com/assets/colab-badge.svg\" alt=\"Open In Colab\"/></a>"
      ]
    },
    {
      "cell_type": "code",
      "execution_count": 3,
      "metadata": {
        "colab": {
          "base_uri": "https://localhost:8080/"
        },
        "id": "uLizTMitunFq",
        "outputId": "e6b3f36b-1e67-4a1f-89b1-abf9a55c7fd2"
      },
      "outputs": [
        {
          "output_type": "stream",
          "name": "stdout",
          "text": [
            "['cat', 'dog', 'cow', 'goat', 'donkey', 'wolf']\n"
          ]
        }
      ],
      "source": [
        "animals1=['cat', 'dog','cow']\n",
        "animals2=['goat','donkey','wolf']\n",
        "\n",
        "def joinAnimal(*lists):\n",
        "  new_list=[]\n",
        "  for lst in lists:\n",
        "    new_list.extend(lst)\n",
        "  return new_list\n",
        "\n",
        "\n",
        "a=joinAnimal(animals1,animals2)\n",
        "print(a)"
      ]
    }
  ]
}