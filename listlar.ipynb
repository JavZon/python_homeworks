{
  "nbformat": 4,
  "nbformat_minor": 0,
  "metadata": {
    "colab": {
      "provenance": [],
      "gpuType": "T4",
      "authorship_tag": "ABX9TyOvAH4ICs49vw9/l0fq7TLj",
      "include_colab_link": true
    },
    "kernelspec": {
      "name": "python3",
      "display_name": "Python 3"
    },
    "language_info": {
      "name": "python"
    },
    "accelerator": "GPU",
    "gpuClass": "standard"
  },
  "cells": [
    {
      "cell_type": "markdown",
      "metadata": {
        "id": "view-in-github",
        "colab_type": "text"
      },
      "source": [
        "<a href=\"https://colab.research.google.com/github/JavZon/python_homeworks/blob/main/listlar.ipynb\" target=\"_parent\"><img src=\"https://colab.research.google.com/assets/colab-badge.svg\" alt=\"Open In Colab\"/></a>"
      ]
    },
    {
      "cell_type": "code",
      "source": [
        "print(\"Salom Mohirdev\")\n",
        "\n",
        "n=int(input(\"Enter a random number \"))\n",
        "if 0<n<20:\n",
        "  print(f\"Square of {n} is {n**2}\")\n",
        "else:\n",
        "  print(\"Salom Mohirev\")\n",
        "  "
      ],
      "metadata": {
        "colab": {
          "base_uri": "https://localhost:8080/"
        },
        "id": "v_JPBfdNpsH4",
        "outputId": "89cf4145-fb48-44f7-a3a0-7ccd79d0e8c7"
      },
      "execution_count": 4,
      "outputs": [
        {
          "output_type": "stream",
          "name": "stdout",
          "text": [
            "Salom Mohirdev\n",
            "Enter a random number 15\n",
            "Square of 15 is 225\n"
          ]
        }
      ]
    },
    {
      "cell_type": "code",
      "source": [],
      "metadata": {
        "id": "eV0_BsWiiLFG"
      },
      "execution_count": 3,
      "outputs": []
    },
    {
      "cell_type": "code",
      "execution_count": 3,
      "metadata": {
        "colab": {
          "base_uri": "https://localhost:8080/"
        },
        "id": "QHJYCYE_gABM",
        "outputId": "23cd67b6-4310-4ff9-99de-b6bc94bdce4e"
      },
      "outputs": [
        {
          "output_type": "stream",
          "name": "stdout",
          "text": [
            "['MONKEY', 'WOLF', 'ELEPHANT', 'DOG', 'CAT', 'HORSE', 'BIRD']\n"
          ]
        }
      ],
      "source": [
        "lst1=['monkey','wolf','elephant']\n",
        "lst2=['dog','cat','horse']\n",
        "lst3=['bird']\n",
        "\n",
        "def join_and_big(*lists):\n",
        "  new_list=[]\n",
        "  for lst in lists:\n",
        "    new_list.extend( animal.upper() for animal in lst)\n",
        "  return new_list\n",
        "\n",
        "\n",
        "new_animals_list=join_and_big(lst1,lst2,lst3)\n",
        "print(new_animals_list)\n"
      ]
    },
    {
      "cell_type": "code",
      "source": [],
      "metadata": {
        "id": "EWdHa93tqVH4"
      },
      "execution_count": 4,
      "outputs": []
    },
    {
      "cell_type": "code",
      "source": [
        "import numpy as np\n",
        "import pandas as pd\n"
      ],
      "metadata": {
        "id": "klInaHq2wLaD"
      },
      "execution_count": 5,
      "outputs": []
    },
    {
      "cell_type": "code",
      "source": [
        "pd.__version__\n"
      ],
      "metadata": {
        "colab": {
          "base_uri": "https://localhost:8080/",
          "height": 36
        },
        "id": "TcUb-BAXwXmP",
        "outputId": "77b0e8a6-4d9d-401d-ff90-0f585811cc36"
      },
      "execution_count": 7,
      "outputs": [
        {
          "output_type": "execute_result",
          "data": {
            "text/plain": [
              "'1.5.3'"
            ],
            "application/vnd.google.colaboratory.intrinsic+json": {
              "type": "string"
            }
          },
          "metadata": {},
          "execution_count": 7
        }
      ]
    },
    {
      "cell_type": "code",
      "source": [
        "np.__version__"
      ],
      "metadata": {
        "colab": {
          "base_uri": "https://localhost:8080/",
          "height": 36
        },
        "id": "eO3Egx5EwdGo",
        "outputId": "8f0e1b0a-74ea-4360-b230-289e376e5ac4"
      },
      "execution_count": 8,
      "outputs": [
        {
          "output_type": "execute_result",
          "data": {
            "text/plain": [
              "'1.22.4'"
            ],
            "application/vnd.google.colaboratory.intrinsic+json": {
              "type": "string"
            }
          },
          "metadata": {},
          "execution_count": 8
        }
      ]
    },
    {
      "cell_type": "code",
      "source": [
        "import torch\n",
        "torch.cuda.is_available()"
      ],
      "metadata": {
        "colab": {
          "base_uri": "https://localhost:8080/"
        },
        "id": "JbKm_hPzxPMC",
        "outputId": "de21114e-2f0e-4a75-e4bb-5c70df824be8"
      },
      "execution_count": 1,
      "outputs": [
        {
          "output_type": "execute_result",
          "data": {
            "text/plain": [
              "True"
            ]
          },
          "metadata": {},
          "execution_count": 1
        }
      ]
    },
    {
      "cell_type": "code",
      "source": [],
      "metadata": {
        "id": "zR4Uf05DzVCJ"
      },
      "execution_count": null,
      "outputs": []
    }
  ]
}