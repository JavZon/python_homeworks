{
  "nbformat": 4,
  "nbformat_minor": 0,
  "metadata": {
    "colab": {
      "provenance": [],
      "gpuType": "T4",
      "authorship_tag": "ABX9TyNgEcQi5d3x8fyXo7xZiCT+",
      "include_colab_link": true
    },
    "kernelspec": {
      "name": "python3",
      "display_name": "Python 3"
    },
    "language_info": {
      "name": "python"
    },
    "accelerator": "GPU"
  },
  "cells": [
    {
      "cell_type": "markdown",
      "metadata": {
        "id": "view-in-github",
        "colab_type": "text"
      },
      "source": [
        "<a href=\"https://colab.research.google.com/github/JavZon/python_homeworks/blob/main/takrorlash_class.ipynb\" target=\"_parent\"><img src=\"https://colab.research.google.com/assets/colab-badge.svg\" alt=\"Open In Colab\"/></a>"
      ]
    },
    {
      "cell_type": "code",
      "execution_count": null,
      "metadata": {
        "id": "uptrKM9ce7BQ"
      },
      "outputs": [],
      "source": [
        "class Person:\n",
        "  def __init__(self, ism, familiya, tyil, address):\n",
        "    self.name=ism\n",
        "    self.surname=familiya\n",
        "    self.born_year=tyil\n",
        "    self.address=address\n",
        "  def get_info(self):\n",
        "    info=f\"{self.name} {self.surname}. Born year - {self.born_year}. Address - {self.address}.\"\n",
        "    return info\n",
        "  def get_age(self, current_year):\n",
        "    return current_year-self.born_year"
      ]
    },
    {
      "cell_type": "code",
      "source": [
        "obj=Person('Alijon','Toyboboyev',1974,'Samarqand shahri, 345.Str')\n"
      ],
      "metadata": {
        "id": "rgLQEF2_ij7-"
      },
      "execution_count": null,
      "outputs": []
    },
    {
      "cell_type": "code",
      "source": [
        "obj.get_info()"
      ],
      "metadata": {
        "colab": {
          "base_uri": "https://localhost:8080/",
          "height": 35
        },
        "id": "Jdbi0tfai4oi",
        "outputId": "e3bb8abf-1ec8-4476-defb-79c7993800aa"
      },
      "execution_count": null,
      "outputs": [
        {
          "output_type": "execute_result",
          "data": {
            "text/plain": [
              "'Alijon Toyboboyev. Born year - 1974. Address - Samarqand shahri, 345.Str.'"
            ],
            "application/vnd.google.colaboratory.intrinsic+json": {
              "type": "string"
            }
          },
          "metadata": {},
          "execution_count": 5
        }
      ]
    },
    {
      "cell_type": "code",
      "source": [
        "class Person:\n",
        "    def __init__(self, name, age):\n",
        "        self.name = name\n",
        "        self.age = age\n",
        "\n",
        "    def introduce(self):\n",
        "        return f\"My name is {self.name}, and I am {self.age} years old.\"\n",
        "\n",
        "class Student(Person):\n",
        "    def study(self):\n",
        "        return f\"{self.name} is studying diligently.\"\n",
        "\n",
        "# Creating instances of Person and Student\n",
        "person1 = Person(\"Alice\", 30)\n",
        "student1 = Student(\"Bob\", 20)\n",
        "# Using the methods of the Person class\n",
        "print(person1.introduce())\n",
        "# Using the methods of the Student class\n",
        "print(student1.introduce())  # Calls the introduce method from the Person class\n",
        "print(student1.study())"
      ],
      "metadata": {
        "colab": {
          "base_uri": "https://localhost:8080/"
        },
        "id": "qUrZQjVBlx0N",
        "outputId": "a897eb15-f3cd-4ed1-e543-78a4d0d719d8"
      },
      "execution_count": null,
      "outputs": [
        {
          "output_type": "stream",
          "name": "stdout",
          "text": [
            "My name is Alice, and I am 30 years old.\n",
            "My name is Bob, and I am 20 years old.\n",
            "Bob is studying diligently.\n"
          ]
        }
      ]
    },
    {
      "cell_type": "code",
      "source": [
        "class Student:\n",
        "    def __init__(self, name, age):\n",
        "        self.__name = name  # Private attribute\n",
        "        self._age = age    # Protected attribute\n",
        "\n",
        "    # Public methods to access and modify private and protected attributes\n",
        "    def get_name(self):\n",
        "        return self.__name\n",
        "\n",
        "    def set_name(self, new_name):\n",
        "        if len(new_name) > 0:\n",
        "            self.__name = new_name\n",
        "\n",
        "    def get_age(self):\n",
        "        return self._age\n",
        "\n",
        "    def set_age(self, new_age):\n",
        "        if new_age >= 0:\n",
        "            self._age = new_age\n",
        "\n",
        "# Creating an instance of the Student class\n",
        "student1 = Student(\"Alice\", 20)\n",
        "# Accessing attributes through methods\n",
        "print(f\"Student Name: {student1.get_name()}\")\n",
        "print(f\"Student Age: {student1.get_age()}\")\n",
        "# Modifying attributes through methods\n",
        "student1.set_name(\"Bob\")\n",
        "student1.set_age(22)\n",
        "# Accessing modified attributes\n",
        "print(f\"Updated Student Name: {student1.get_name()}\")\n",
        "print(f\"Updated Student Age: {student1.get_age()}\")\n"
      ],
      "metadata": {
        "colab": {
          "base_uri": "https://localhost:8080/"
        },
        "id": "SVm1MJaaop4w",
        "outputId": "f79d4b15-3b04-41cc-a48c-5418ed4885e3"
      },
      "execution_count": null,
      "outputs": [
        {
          "output_type": "stream",
          "name": "stdout",
          "text": [
            "Student Name: Alice\n",
            "Student Age: 20\n",
            "Updated Student Name: Bob\n",
            "Updated Student Age: 22\n"
          ]
        }
      ]
    },
    {
      "cell_type": "code",
      "source": [
        "student1._age"
      ],
      "metadata": {
        "colab": {
          "base_uri": "https://localhost:8080/"
        },
        "id": "Golk8QY5rNsv",
        "outputId": "6cc130e4-c7e6-454d-81fd-b87e25ca64c4"
      },
      "execution_count": null,
      "outputs": [
        {
          "output_type": "execute_result",
          "data": {
            "text/plain": [
              "22"
            ]
          },
          "metadata": {},
          "execution_count": 20
        }
      ]
    },
    {
      "cell_type": "code",
      "source": [
        "class Auto:\n",
        "  def __init__(self, producer, model, year, price, km):\n",
        "    self.producer=producer\n",
        "    self.model=model\n",
        "    self.year=year\n",
        "    self.price=price\n",
        "    self.__km=km\n",
        "\n",
        "  def get_km(self):\n",
        "    return self.__km\n",
        "  def __repr__(self):\n",
        "    return f\"Avto : {self.producer} {self.model}\"\n",
        "\n",
        "  def __lt__(self, other_obj):\n",
        "    return self.price < other_obj.price\n",
        "\n",
        "  def __eq__(self, obj):\n",
        "    return self.price == obj.price\n",
        "\n",
        "  def __call__(self):\n",
        "    return f\"{self.model} {self.producer}. Year - {self.year}. Price - {self.price}\"\n",
        "\n",
        "\n"
      ],
      "metadata": {
        "id": "MkJ5X8f_sUb6"
      },
      "execution_count": null,
      "outputs": []
    },
    {
      "cell_type": "code",
      "source": [
        "avto1=Auto('Toyota','Carolla', 2023, 45000, 350)\n",
        "avto2=Auto('GM','Lachetti', 2021, 15000, 780)\n"
      ],
      "metadata": {
        "id": "3yZehcWbRbn0"
      },
      "execution_count": null,
      "outputs": []
    },
    {
      "cell_type": "code",
      "source": [
        "avto1!=avto2"
      ],
      "metadata": {
        "colab": {
          "base_uri": "https://localhost:8080/"
        },
        "id": "2ogFQhqVRrlM",
        "outputId": "bc7c6ba0-335a-46e4-ce85-e93f3fa10bbd"
      },
      "execution_count": null,
      "outputs": [
        {
          "output_type": "execute_result",
          "data": {
            "text/plain": [
              "True"
            ]
          },
          "metadata": {},
          "execution_count": 11
        }
      ]
    },
    {
      "cell_type": "code",
      "source": [
        "avto1.get_km()"
      ],
      "metadata": {
        "colab": {
          "base_uri": "https://localhost:8080/"
        },
        "id": "X_6hS4PHRs2k",
        "outputId": "625b2e76-f95f-4f96-ef38-e2b19ec23eae"
      },
      "execution_count": null,
      "outputs": [
        {
          "output_type": "execute_result",
          "data": {
            "text/plain": [
              "350"
            ]
          },
          "metadata": {},
          "execution_count": 4
        }
      ]
    },
    {
      "cell_type": "code",
      "source": [
        "isinstance('25',str)"
      ],
      "metadata": {
        "colab": {
          "base_uri": "https://localhost:8080/"
        },
        "id": "ViPQG4w2Rxp8",
        "outputId": "a845ea3e-ea75-4e1e-a617-8d285b8a030d"
      },
      "execution_count": null,
      "outputs": [
        {
          "output_type": "execute_result",
          "data": {
            "text/plain": [
              "True"
            ]
          },
          "metadata": {},
          "execution_count": 13
        }
      ]
    },
    {
      "cell_type": "code",
      "source": [
        "avto1"
      ],
      "metadata": {
        "colab": {
          "base_uri": "https://localhost:8080/"
        },
        "id": "wYCKM8TZbHb2",
        "outputId": "fbb39529-91e8-45ad-f5db-2a008a5e4224"
      },
      "execution_count": null,
      "outputs": [
        {
          "output_type": "execute_result",
          "data": {
            "text/plain": [
              "Avto : Toyota Carolla"
            ]
          },
          "metadata": {},
          "execution_count": 16
        }
      ]
    },
    {
      "cell_type": "code",
      "source": [
        "avto1()"
      ],
      "metadata": {
        "colab": {
          "base_uri": "https://localhost:8080/",
          "height": 35
        },
        "id": "gaHx1v9adEiQ",
        "outputId": "8cc215e7-5614-4ce7-d307-70603a148284"
      },
      "execution_count": null,
      "outputs": [
        {
          "output_type": "execute_result",
          "data": {
            "text/plain": [
              "'Carolla Toyota. Year - 2023. Price - 45000'"
            ],
            "application/vnd.google.colaboratory.intrinsic+json": {
              "type": "string"
            }
          },
          "metadata": {},
          "execution_count": 17
        }
      ]
    },
    {
      "cell_type": "code",
      "source": [],
      "metadata": {
        "id": "_Cg2c_SZdGyI"
      },
      "execution_count": null,
      "outputs": []
    }
  ]
}